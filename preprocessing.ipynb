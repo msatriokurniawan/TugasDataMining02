{
  "nbformat": 4,
  "nbformat_minor": 0,
  "metadata": {
    "colab": {
      "provenance": []
    },
    "kernelspec": {
      "name": "python3",
      "display_name": "Python 3"
    },
    "language_info": {
      "name": "python"
    }
  },
  "cells": [
    {
      "cell_type": "code",
      "execution_count": 1,
      "metadata": {
        "id": "B4PoJIL9Kalp"
      },
      "outputs": [],
      "source": [
        "import numpy as np\n",
        "import matplotlib.pyplot as plt\n",
        "import pandas as pd"
      ]
    },
    {
      "cell_type": "code",
      "source": [
        "dataset = pd.read_csv('Data.csv')\n",
        "x = dataset.iloc[:, :-1].values\n",
        "y = dataset.iloc[:, -1].values"
      ],
      "metadata": {
        "id": "7TY8FKZ2Mibj"
      },
      "execution_count": 3,
      "outputs": []
    },
    {
      "cell_type": "code",
      "source": [
        "print(x)"
      ],
      "metadata": {
        "colab": {
          "base_uri": "https://localhost:8080/"
        },
        "id": "rJv-E5g6Mni7",
        "outputId": "bc5e3f30-119a-4348-f53c-803d62136b6b"
      },
      "execution_count": 4,
      "outputs": [
        {
          "output_type": "stream",
          "name": "stdout",
          "text": [
            "[['Indonesia' 33.0 72000.0]\n",
            " ['Palestina' 27.0 48000.0]\n",
            " ['Germany' 30.0 54000.0]\n",
            " ['Palestina' 38.0 61000.0]\n",
            " ['Germany' 40.0 nan]\n",
            " ['Indonesia' 35.0 58000.0]\n",
            " ['Palestina' nan 52000.0]\n",
            " ['Indonesia' 48.0 79000.0]\n",
            " ['Germany' 40.0 35000.0]\n",
            " ['Indonesia' 37.0 50000.0]]\n"
          ]
        }
      ]
    },
    {
      "cell_type": "code",
      "source": [
        "print(y)"
      ],
      "metadata": {
        "colab": {
          "base_uri": "https://localhost:8080/"
        },
        "id": "8VcnOsOZMslo",
        "outputId": "b02a01db-b799-4c6a-e239-7595b2537076"
      },
      "execution_count": 5,
      "outputs": [
        {
          "output_type": "stream",
          "name": "stdout",
          "text": [
            "['No' 'Yes' 'No' 'No' 'Yes' 'Yes' 'No' 'Yes' 'No' 'Yes']\n"
          ]
        }
      ]
    },
    {
      "cell_type": "code",
      "source": [
        "from sklearn.impute import SimpleImputer\n",
        "imputer = SimpleImputer(missing_values=np.nan, strategy='mean')\n",
        "imputer.fit(x[:, 1:3])\n",
        "x[:, 1:3] = imputer.transform(x[:, 1:3])"
      ],
      "metadata": {
        "id": "KUZ5-4D4MvzH"
      },
      "execution_count": 6,
      "outputs": []
    },
    {
      "cell_type": "code",
      "source": [
        "print(x)"
      ],
      "metadata": {
        "colab": {
          "base_uri": "https://localhost:8080/"
        },
        "id": "EcWR_m9nMyvP",
        "outputId": "e2afb81d-a82b-4f08-e73f-424f13922f9f"
      },
      "execution_count": 7,
      "outputs": [
        {
          "output_type": "stream",
          "name": "stdout",
          "text": [
            "[['Indonesia' 33.0 72000.0]\n",
            " ['Palestina' 27.0 48000.0]\n",
            " ['Germany' 30.0 54000.0]\n",
            " ['Palestina' 38.0 61000.0]\n",
            " ['Germany' 40.0 56555.555555555555]\n",
            " ['Indonesia' 35.0 58000.0]\n",
            " ['Palestina' 36.44444444444444 52000.0]\n",
            " ['Indonesia' 48.0 79000.0]\n",
            " ['Germany' 40.0 35000.0]\n",
            " ['Indonesia' 37.0 50000.0]]\n"
          ]
        }
      ]
    },
    {
      "cell_type": "code",
      "source": [
        "from sklearn.compose import ColumnTransformer\n",
        "from sklearn.preprocessing import OneHotEncoder\n",
        "ct = ColumnTransformer(transformers=[('encoder', OneHotEncoder(), [0])], remainder='passthrough')\n",
        "x = np.array(ct.fit_transform(x))"
      ],
      "metadata": {
        "id": "pKXQwZeXM66-"
      },
      "execution_count": 8,
      "outputs": []
    },
    {
      "cell_type": "code",
      "source": [
        "print(x)"
      ],
      "metadata": {
        "colab": {
          "base_uri": "https://localhost:8080/"
        },
        "id": "ArZXcPe5M_bT",
        "outputId": "bdbe1a77-10ca-4c51-93b3-b6ee9d5d5291"
      },
      "execution_count": 9,
      "outputs": [
        {
          "output_type": "stream",
          "name": "stdout",
          "text": [
            "[[0.0 1.0 0.0 33.0 72000.0]\n",
            " [0.0 0.0 1.0 27.0 48000.0]\n",
            " [1.0 0.0 0.0 30.0 54000.0]\n",
            " [0.0 0.0 1.0 38.0 61000.0]\n",
            " [1.0 0.0 0.0 40.0 56555.555555555555]\n",
            " [0.0 1.0 0.0 35.0 58000.0]\n",
            " [0.0 0.0 1.0 36.44444444444444 52000.0]\n",
            " [0.0 1.0 0.0 48.0 79000.0]\n",
            " [1.0 0.0 0.0 40.0 35000.0]\n",
            " [0.0 1.0 0.0 37.0 50000.0]]\n"
          ]
        }
      ]
    },
    {
      "cell_type": "code",
      "source": [
        "from sklearn.preprocessing import LabelEncoder\n",
        "le = LabelEncoder()\n",
        "y = le.fit_transform(y)"
      ],
      "metadata": {
        "id": "dCgOlFdiNCmb"
      },
      "execution_count": 10,
      "outputs": []
    },
    {
      "cell_type": "code",
      "source": [
        "print(y)"
      ],
      "metadata": {
        "colab": {
          "base_uri": "https://localhost:8080/"
        },
        "id": "D_mAiAxcNFPD",
        "outputId": "3352593f-fc90-4816-c138-3f118c3cba51"
      },
      "execution_count": 11,
      "outputs": [
        {
          "output_type": "stream",
          "name": "stdout",
          "text": [
            "[0 1 0 0 1 1 0 1 0 1]\n"
          ]
        }
      ]
    },
    {
      "cell_type": "code",
      "source": [
        "from sklearn.model_selection import train_test_split\n",
        "x_train, x_test, y_train, y_test = train_test_split(x, y, test_size=0.2, random_state=1)"
      ],
      "metadata": {
        "id": "ejlIbDFfNHxz"
      },
      "execution_count": 12,
      "outputs": []
    },
    {
      "cell_type": "code",
      "source": [
        "print(x_train)"
      ],
      "metadata": {
        "colab": {
          "base_uri": "https://localhost:8080/"
        },
        "id": "tjNCDjlXNLWz",
        "outputId": "350e6457-f4a8-4a40-fa8a-2585431273f7"
      },
      "execution_count": 13,
      "outputs": [
        {
          "output_type": "stream",
          "name": "stdout",
          "text": [
            "[[0.0 0.0 1.0 36.44444444444444 52000.0]\n",
            " [1.0 0.0 0.0 40.0 56555.555555555555]\n",
            " [0.0 1.0 0.0 33.0 72000.0]\n",
            " [0.0 0.0 1.0 38.0 61000.0]\n",
            " [0.0 0.0 1.0 27.0 48000.0]\n",
            " [0.0 1.0 0.0 48.0 79000.0]\n",
            " [1.0 0.0 0.0 40.0 35000.0]\n",
            " [0.0 1.0 0.0 35.0 58000.0]]\n"
          ]
        }
      ]
    },
    {
      "cell_type": "code",
      "source": [
        "print(x_test)"
      ],
      "metadata": {
        "colab": {
          "base_uri": "https://localhost:8080/"
        },
        "id": "cITs0pI3NOsu",
        "outputId": "2fa13586-168a-4fc1-c29e-26c109a38dff"
      },
      "execution_count": 14,
      "outputs": [
        {
          "output_type": "stream",
          "name": "stdout",
          "text": [
            "[[1.0 0.0 0.0 30.0 54000.0]\n",
            " [0.0 1.0 0.0 37.0 50000.0]]\n"
          ]
        }
      ]
    },
    {
      "cell_type": "code",
      "source": [
        "print(y_train)"
      ],
      "metadata": {
        "colab": {
          "base_uri": "https://localhost:8080/"
        },
        "id": "WQ87e2z2NSkL",
        "outputId": "969f2c41-683b-49de-e39b-041e34665ce5"
      },
      "execution_count": 15,
      "outputs": [
        {
          "output_type": "stream",
          "name": "stdout",
          "text": [
            "[0 1 0 0 1 1 0 1]\n"
          ]
        }
      ]
    },
    {
      "cell_type": "code",
      "source": [
        "print(y_test)"
      ],
      "metadata": {
        "colab": {
          "base_uri": "https://localhost:8080/"
        },
        "id": "FcF0P_TcNVE3",
        "outputId": "333dd9a8-43e6-4d97-d947-5b50d132199f"
      },
      "execution_count": 16,
      "outputs": [
        {
          "output_type": "stream",
          "name": "stdout",
          "text": [
            "[0 1]\n"
          ]
        }
      ]
    },
    {
      "cell_type": "code",
      "source": [
        "from sklearn.preprocessing import StandardScaler\n",
        "sc = StandardScaler()\n",
        "x_train[:, 3:] = sc.fit_transform(x_train[:, 3:])\n",
        "x_test[:, 3:] = sc.transform(x_test[:, 3:])"
      ],
      "metadata": {
        "id": "oXdLglvpNXmb"
      },
      "execution_count": 17,
      "outputs": []
    },
    {
      "cell_type": "code",
      "source": [
        "print(x_train)"
      ],
      "metadata": {
        "colab": {
          "base_uri": "https://localhost:8080/"
        },
        "id": "MkB7qhsKNaFU",
        "outputId": "c7fd7891-0a95-4f45-c07d-e9af20234d85"
      },
      "execution_count": 18,
      "outputs": [
        {
          "output_type": "stream",
          "name": "stdout",
          "text": [
            "[[0.0 0.0 1.0 -0.1291105531182616 -0.44460388403608264]\n",
            " [1.0 0.0 0.0 0.49451777892466003 -0.08892077680721665]\n",
            " [0.0 1.0 0.0 -0.7332504997848414 1.1169317086760122]\n",
            " [0.0 0.0 1.0 0.14372684215051676 0.25808713268436007]\n",
            " [0.0 0.0 1.0 -1.7856233101072712 -0.7569110025785016]\n",
            " [0.0 1.0 0.0 1.897681526021233 1.6634691661252456]\n",
            " [1.0 0.0 0.0 0.49451777892466003 -1.7719091378413634]\n",
            " [0.0 1.0 0.0 -0.3824595630106981 0.02385679377754583]]\n"
          ]
        }
      ]
    },
    {
      "cell_type": "code",
      "source": [
        "print(x_test)"
      ],
      "metadata": {
        "colab": {
          "base_uri": "https://localhost:8080/"
        },
        "id": "yBp2jsZiNcTY",
        "outputId": "4fd1e194-6e4e-4530-fcad-d20352585ab7"
      },
      "execution_count": 19,
      "outputs": [
        {
          "output_type": "stream",
          "name": "stdout",
          "text": [
            "[[1.0 0.0 0.0 -1.2594369049460563 -0.28845032476487314]\n",
            " [0.0 1.0 0.0 -0.03166862623655488 -0.6007574433072922]]\n"
          ]
        }
      ]
    },
    {
      "cell_type": "code",
      "source": [],
      "metadata": {
        "id": "kH5ndMpHNevb"
      },
      "execution_count": null,
      "outputs": []
    }
  ]
}